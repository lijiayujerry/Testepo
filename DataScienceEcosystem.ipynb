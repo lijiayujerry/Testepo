{
 "cells": [
  {
   "cell_type": "markdown",
   "id": "0fa78076-732c-4875-a059-7a1116cf0b6b",
   "metadata": {
    "tags": []
   },
   "source": [
    "#Data Science Tools and Ecosystem"
   ]
  },
  {
   "cell_type": "markdown",
   "id": "349e6862-5a27-4854-8623-b9e156e33314",
   "metadata": {},
   "source": [
    "In this notebook, Data Science Tools and Ecosystem are summarized."
   ]
  },
  {
   "cell_type": "markdown",
   "id": "7ebac958-0de2-43c8-a8aa-340b1240d402",
   "metadata": {},
   "source": [
    "_Objectives:_\n",
    "· List popular languages for Data Science\n",
    "· List commonly used libraries for Data Science\n",
    "· Some of the key takeaways from the course"
   ]
  },
  {
   "cell_type": "markdown",
   "id": "0d6f14ff-8141-486c-816d-d598b7bb24d2",
   "metadata": {},
   "source": [
    "Some of the popular languages that Data Scientists use are:\n",
    "1. Python\n",
    "2. R\n",
    "3. Java"
   ]
  },
  {
   "cell_type": "markdown",
   "id": "2bca8027-09ee-4115-a309-ebec651a4a77",
   "metadata": {},
   "source": [
    "Some of the commonly used libraries used by Data Scientists include:\n",
    "1. Pandas\n",
    "2. TensorFlow\n",
    "3. NumPy"
   ]
  },
  {
   "cell_type": "markdown",
   "id": "381038a6-18d7-43cd-a41a-1f3a709a2cf0",
   "metadata": {},
   "source": [
    "Data Science Tools\n",
    "| Data Science Tools |\n",
    "| -------------|\n",
    "| Git |\n",
    "| Apache Airflow |\n",
    "| MySQL |"
   ]
  },
  {
   "cell_type": "markdown",
   "id": "d28f023f-3a6d-4138-b493-2796728203ac",
   "metadata": {},
   "source": [
    "Data Science Tools\n",
    "| Data Science Tools |\n",
    "| -------------|\n",
    "| Git |\n",
    "| Apache Airflow |\n",
    "| MySQL |"
   ]
  },
  {
   "cell_type": "markdown",
   "id": "bc05bef4-1f5f-4ede-8e22-63bb836cccb0",
   "metadata": {},
   "source": [
    "###Below are a few examples of evaluating arithmetic expressions in Python"
   ]
  },
  {
   "cell_type": "code",
   "execution_count": 2,
   "id": "eb2fff01-87ad-4b26-9856-c5d70050c7db",
   "metadata": {
    "tags": []
   },
   "outputs": [
    {
     "data": {
      "text/plain": [
       "17"
      ]
     },
     "execution_count": 2,
     "metadata": {},
     "output_type": "execute_result"
    }
   ],
   "source": [
    "#This a simple arithmetic expression to mutiply then add integers\n",
    "(3*4)+5"
   ]
  },
  {
   "cell_type": "code",
   "execution_count": 3,
   "id": "25fb2dd8-b496-4bbd-826f-863fc7426b19",
   "metadata": {
    "tags": []
   },
   "outputs": [
    {
     "data": {
      "text/plain": [
       "3.3333333333333335"
      ]
     },
     "execution_count": 3,
     "metadata": {},
     "output_type": "execute_result"
    }
   ],
   "source": [
    "#This will convert 200 minutes to hours by diving by 60\n",
    "200/60"
   ]
  },
  {
   "cell_type": "markdown",
   "id": "3a57c9ae-72f9-41ff-952a-a62adbfce150",
   "metadata": {},
   "source": [
    "##Author\n",
    "Jiayu Li"
   ]
  }
 ],
 "metadata": {
  "kernelspec": {
   "display_name": "Python",
   "language": "python",
   "name": "conda-env-python-py"
  },
  "language_info": {
   "codemirror_mode": {
    "name": "ipython",
    "version": 3
   },
   "file_extension": ".py",
   "mimetype": "text/x-python",
   "name": "python",
   "nbconvert_exporter": "python",
   "pygments_lexer": "ipython3",
   "version": "3.7.12"
  }
 },
 "nbformat": 4,
 "nbformat_minor": 5
}
